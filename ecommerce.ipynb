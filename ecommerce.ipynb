{
 "cells": [
  {
   "cell_type": "markdown",
   "metadata": {},
   "source": [
    "### Impotando librerías"
   ]
  },
  {
   "cell_type": "code",
   "execution_count": 3,
   "metadata": {},
   "outputs": [],
   "source": [
    "import pandas as pd\n",
    "from sqlalchemy import create_engine\n",
    "import sweetviz as sv"
   ]
  },
  {
   "cell_type": "markdown",
   "metadata": {},
   "source": [
    "### Lectura de datos"
   ]
  },
  {
   "cell_type": "code",
   "execution_count": 4,
   "metadata": {},
   "outputs": [],
   "source": [
    "archivos_csv = ['customers.csv', 'geolocation.csv', 'order_items.csv', 'order_payments.csv', 'order_reviews.csv', 'orders.csv', 'prod_cat_translation.csv', 'products.csv', 'sellers.csv']\n",
    "\n",
    "dataframes = {}\n",
    "\n",
    "for archivo in archivos_csv:\n",
    "    nombre_df = archivo.split('.')[0]\n",
    "    dataframes[nombre_df] = pd.read_csv(archivo)"
   ]
  },
  {
   "cell_type": "markdown",
   "metadata": {},
   "source": [
    "### Usando sweetviz"
   ]
  },
  {
   "cell_type": "code",
   "execution_count": 5,
   "metadata": {},
   "outputs": [],
   "source": [
    "# df_to_analyze = dataframes['customers']\n",
    "# report_single_df = sv.analyze(df_to_analyze)\n",
    "# report_single_df.show_html('customer_report.html')\n",
    "\n",
    "# df1 = dataframes['customers']\n",
    "# df2 = dataframes['orders']\n",
    "# report_comparison = sv.compare([df1, 'Customers'], [df2, 'Orders'])\n",
    "# report_comparison.show_html('comparison_report.html')"
   ]
  }
 ],
 "metadata": {
  "kernelspec": {
   "display_name": "Python 3",
   "language": "python",
   "name": "python3"
  },
  "language_info": {
   "codemirror_mode": {
    "name": "ipython",
    "version": 3
   },
   "file_extension": ".py",
   "mimetype": "text/x-python",
   "name": "python",
   "nbconvert_exporter": "python",
   "pygments_lexer": "ipython3",
   "version": "3.10.4"
  }
 },
 "nbformat": 4,
 "nbformat_minor": 2
}
